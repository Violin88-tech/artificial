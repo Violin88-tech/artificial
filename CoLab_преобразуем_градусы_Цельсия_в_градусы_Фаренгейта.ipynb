{
  "nbformat": 4,
  "nbformat_minor": 0,
  "metadata": {
    "colab": {
      "name": "CoLab: преобразуем градусы Цельсия в градусы Фаренгейта.ipynb",
      "provenance": [],
      "toc_visible": true,
      "include_colab_link": true
    },
    "kernelspec": {
      "name": "python3",
      "display_name": "Python 3"
    }
  },
  "cells": [
    {
      "cell_type": "markdown",
      "metadata": {
        "id": "view-in-github",
        "colab_type": "text"
      },
      "source": [
        "<a href=\"https://colab.research.google.com/github/Violin88-tech/artificial/blob/master/CoLab_%D0%BF%D1%80%D0%B5%D0%BE%D0%B1%D1%80%D0%B0%D0%B7%D1%83%D0%B5%D0%BC_%D0%B3%D1%80%D0%B0%D0%B4%D1%83%D1%81%D1%8B_%D0%A6%D0%B5%D0%BB%D1%8C%D1%81%D0%B8%D1%8F_%D0%B2_%D0%B3%D1%80%D0%B0%D0%B4%D1%83%D1%81%D1%8B_%D0%A4%D0%B0%D1%80%D0%B5%D0%BD%D0%B3%D0%B5%D0%B9%D1%82%D0%B0.ipynb\" target=\"_parent\"><img src=\"https://colab.research.google.com/assets/colab-badge.svg\" alt=\"Open In Colab\"/></a>"
      ]
    },
    {
      "cell_type": "markdown",
      "metadata": {
        "id": "5jJuIUKngWZs",
        "colab_type": "text"
      },
      "source": [
        "# Основы: обучение первой модели"
      ]
    },
    {
      "cell_type": "markdown",
      "metadata": {
        "id": "PBxgFiWLgir4",
        "colab_type": "text"
      },
      "source": [
        "Добро пожаловать в CoLab, где мы будем тренировать нашу первую модель машинного обучения!\n",
        "\n",
        "Мы постараемся сохранять простоту преподносимого материала и ввести только базовые понятия необходимые для работы. Последующие CoLabs будут содержать более продвинутые техники.\n",
        "\n",
        "Задача, которую мы будем решать - преобразование градусов Цельсия в градусы Фаренгейта. Формула преобразования выглядит следующим образом:\n",
        "\n",
        "$$ f = c \\times 1.8 + 32 $$\n",
        "\n",
        "Безусловно, было бы проще просто написать функцию конвертации на Python или любом другом языке программирования, которая бы выполняла непосредственные вычисления, но в таком случае это не было бы машинным обучением :)\n",
        "\n",
        "Вместо этого мы подадим на вход TensorFlow имеющиеся у нас входные значения градусов Цельсия (0, 8, 15, 22, 38) и их соответствующие градусы по Фаренгейту (32, 46, 59, 72, 100). Затем мы натренируем модель таким образом, чтобы та примерно соответствовала приведённой выше формуле."
      ]
    },
    {
      "cell_type": "markdown",
      "metadata": {
        "id": "sSrQQgSwh9n3",
        "colab_type": "text"
      },
      "source": [
        "# Импорт зависимостей"
      ]
    },
    {
      "cell_type": "markdown",
      "metadata": {
        "id": "HC0y9JVAiTO_",
        "colab_type": "text"
      },
      "source": [
        "Первым делом импортируем TensorFlow. Здесь и в последующем мы сокращённо называем его `tf`. Мы так же настраиваем уровень логгирования - только ошибки.\n",
        "\n",
        "Далее, импортируем `NumPy` как `np`. Numpy помогает нам представить наши данные в виде высокоэффективных списков."
      ]
    },
    {
      "cell_type": "code",
      "metadata": {
        "id": "_FYdsC-ri0iW",
        "colab_type": "code",
        "colab": {}
      },
      "source": [
        "from __future__ import absolute_import, division, print_function, unicode_literals\n",
        "import tensorflow as tf\n",
        "tf.logging.set_verbosity(tf.logging.ERROR)\n",
        "\n",
        "import numpy as np"
      ],
      "execution_count": 0,
      "outputs": []
    },
    {
      "cell_type": "markdown",
      "metadata": {
        "id": "RDBH8oapjKX0",
        "colab_type": "text"
      },
      "source": [
        "# Подготовим данные для тренировки"
      ]
    },
    {
      "cell_type": "markdown",
      "metadata": {
        "id": "IsCiSe90jQ75",
        "colab_type": "text"
      },
      "source": [
        "Как мы уже видели ранее, методика машинного обучения с учителем основывается на поиске алгоритма преобразования входных данных в выходные. Так как задачей этого CoLab является создание модели, которая может выдать результат преобразования градусов по Фаренгейту в градусы Цельсия, создадим два списка - `celsius_q` и `fahrenheit_a`, которые мы используем при обучении нашей модели."
      ]
    },
    {
      "cell_type": "code",
      "metadata": {
        "id": "JZpo2gJFkFNb",
        "colab_type": "code",
        "outputId": "fbfd1598-b51f-4eaf-b4d9-db0ca8405039",
        "colab": {
          "base_uri": "https://localhost:8080/",
          "height": 146
        }
      },
      "source": [
        "celsius_q    = np.array([-40, -10, 0, 8, 15, 22, 38], dtype=float)\n",
        "fahrenheit_a = np.array([-40, 14, 32, 46, 59, 72, 100], dtype=float)\n",
        "\n",
        "for i,c in enumerate(celsius_q):\n",
        "  print(\"{} градусов Цельсия = {} градусов Фаренгейта\".format(c, fahrenheit_a[i]))"
      ],
      "execution_count": 0,
      "outputs": [
        {
          "output_type": "stream",
          "text": [
            "-40.0 градусов Цельсия = -40.0 градусов Фаренгейта\n",
            "-10.0 градусов Цельсия = 14.0 градусов Фаренгейта\n",
            "0.0 градусов Цельсия = 32.0 градусов Фаренгейта\n",
            "8.0 градусов Цельсия = 46.0 градусов Фаренгейта\n",
            "15.0 градусов Цельсия = 59.0 градусов Фаренгейта\n",
            "22.0 градусов Цельсия = 72.0 градусов Фаренгейта\n",
            "38.0 градусов Цельсия = 100.0 градусов Фаренгейта\n"
          ],
          "name": "stdout"
        }
      ]
    },
    {
      "cell_type": "markdown",
      "metadata": {
        "id": "v7R9_IElk4p7",
        "colab_type": "text"
      },
      "source": [
        "**Некоторая терминология машинного обучения**\n",
        "\n",
        "\n",
        "\n",
        "*   **Свойство (признак)** - входное(ые) значение нашей модели. В данном случае единичное значение - градусы Цельсия.\n",
        "* **Метки** - выходные значения, которые наша модель предсказывает. В данном случае единичное значение - градусы Фаренгейта.\n",
        "* **Пример** - пара входных-выходных значений используемых для тренировки. В данном случае это пара значений из `celsius_q` и `fahrenheit_a` под определённым индексом, например, `(22,72)`.\n",
        "\n"
      ]
    },
    {
      "cell_type": "markdown",
      "metadata": {
        "id": "y6f1arb6lBjy",
        "colab_type": "text"
      },
      "source": [
        "# Создаём модель"
      ]
    },
    {
      "cell_type": "markdown",
      "metadata": {
        "id": "BdjvHCZLmCo8",
        "colab_type": "text"
      },
      "source": [
        "Далее мы создаём модель. Мы будем использовать максимально упрощенную модель - модель плотной сети (`Dense`-сеть).\n",
        "Так как задача достаточно незамысловата, то и сеть будет состоять из единственного слоя с единственным нейроном. "
      ]
    },
    {
      "cell_type": "markdown",
      "metadata": {
        "id": "o3WatarXnNIH",
        "colab_type": "text"
      },
      "source": [
        "**Строим сеть**\n",
        "\n",
        "Мы назовём слой `l0` (**l**ayer и ноль) и создадим его, инициализировав `tf.keras.layers.Dense` со следующими параметрами:\n",
        "\n",
        "* `input_shape=[1]` - этот параметр определяет размерность входного параметра - единичное значение. Массив размером $ 1 \\times 1 $ с единственным значением. Так как это первый (и единственный) слой, то и размерность входных данных соответствует размерности всей модели. Единственное значение - значение с плавающей запятой, представляющее градусы Цельсия.\n",
        "\n",
        "* `units=1` - этот параметр определяет количество нейронов в слое. Количество нейронов определяет то, как много внутренних переменных слоя будет использовано для обучения при поиске решения поставленной задачи. Так как это последний слой, то его размерность равна размерности результата - выходного значения модели - единственного числа с плавающей запятой представляющего собой градусы Фаренгейта. (В многослойной сети размеры и форма слоя `input_shape` должны соответствовать размерам и формам следующего слоя)."
      ]
    },
    {
      "cell_type": "code",
      "metadata": {
        "id": "rEl0XZP_qID-",
        "colab_type": "code",
        "colab": {}
      },
      "source": [
        "l0 = tf.keras.layers.Dense(units=1, input_shape=[1])"
      ],
      "execution_count": 0,
      "outputs": []
    },
    {
      "cell_type": "markdown",
      "metadata": {
        "id": "kk-U2bY4qQGF",
        "colab_type": "text"
      },
      "source": [
        "### Преобразуем слои в модель"
      ]
    },
    {
      "cell_type": "markdown",
      "metadata": {
        "id": "gijN_UwhqVEY",
        "colab_type": "text"
      },
      "source": [
        "Как только слои определены их необходимо преобразовать в модель. `Sequential`-модель принимает в качестве аргументов перечень слоёв в том порядке в котором их необходимо применять - от входного значения до выходного значения.\n",
        "\n",
        "У нашей модели всего один слой - `l0`."
      ]
    },
    {
      "cell_type": "code",
      "metadata": {
        "id": "nAkvAYcmq9l7",
        "colab_type": "code",
        "colab": {}
      },
      "source": [
        "model = tf.keras.Sequential([l0])"
      ],
      "execution_count": 0,
      "outputs": []
    },
    {
      "cell_type": "markdown",
      "metadata": {
        "id": "E5XEUCkCrNcx",
        "colab_type": "text"
      },
      "source": [
        "**Примечание**\n",
        "\n",
        "Достаточно часто вы будете сталкиваться с определением слоёв прямо в функции модели, нежели с их предварительным описанием и последующим использованием:\n",
        "\n",
        "\n",
        "\n",
        "```\n",
        "model = tf.keras.Sequential([\n",
        "    tf.keras.layers.Dense(units=1, input_shape=[1])\n",
        "])\n",
        "```\n",
        "\n"
      ]
    },
    {
      "cell_type": "markdown",
      "metadata": {
        "id": "b60kVhLdrt_-",
        "colab_type": "text"
      },
      "source": [
        "## Компилируем модель с функцией потерь и оптимизаций"
      ]
    },
    {
      "cell_type": "markdown",
      "metadata": {
        "id": "cDejLj7dr3bv",
        "colab_type": "text"
      },
      "source": [
        "Перед тренировкой модель должна быть скомпилирована (собрана). При компиляции для тренировки необходимы:\n",
        "\n",
        "* **функция потерь** - способ измерения того, насколько далеко предсказываемое значение от желаемого выходного значения (измеримая разница называется \"потерей\").\n",
        "\n",
        "* **функция оптимизации** - способ корректировки внутренних переменных для уменьшения потерь."
      ]
    },
    {
      "cell_type": "code",
      "metadata": {
        "id": "1Q4YEr_QtAjH",
        "colab_type": "code",
        "colab": {}
      },
      "source": [
        "model.compile(loss='mean_squared_error',\n",
        "              optimizer=tf.keras.optimizers.Adam(0.1))"
      ],
      "execution_count": 0,
      "outputs": []
    },
    {
      "cell_type": "markdown",
      "metadata": {
        "id": "qYmkC8zFtOxi",
        "colab_type": "text"
      },
      "source": [
        "Функция потерь и функция оптимизации используются во время тренировки модели (`model.fit(...)` упоминаемая ниже) для выполнения первичных вычислений в каждой точке и последующей оптимизации значений. \n",
        "\n",
        "Действие вычисления текущих потерь и последующее улучшение этих значений в модели - это именно то, чем является тренировка.\n",
        "\n",
        "Во время тренировки, функция оптимизации используется для подсчета корректировок значений внутренних переменных. Цель - подогнать значения внутренних переменных таким образом в модели (а это, по сути, математическая функция), чтобы те отражали непосредственное выражение конвертации градусов Цельсия в градусы Фаренгейта.\n",
        "\n",
        "TensorFlow использует численный анализ для выполнения подобного рода операций оптимизации и вся эта сложность скрыта от ваших глаз, поэтому мы не будем вдаваться в детали в этом курсе.\n",
        "\n",
        "Что полезно знать об этих параметрах:\n",
        "\n",
        "Функция потерь ([среднеквадратичная ошибка](https://www.yandex.ru/search/?text=%D1%81%D1%80%D0%B5%D0%B4%D0%BD%D0%B5%D0%BA%D0%B2%D0%B0%D0%B4%D1%80%D0%B0%D1%82%D0%B8%D1%87%D0%BD%D0%B0%D1%8F%20%D0%BE%D1%88%D0%B8%D0%B1%D0%BA%D0%B0&lr=192&clid=2186621)) и функция оптимизации ([Adam](https://machinelearningmastery.com/adam-optimization-algorithm-for-deep-learning/)), используемые в этом примере, являются стандартными для подобных простых моделей, но кроме них доступно множество других. На данном этапе нам не важно каким образом работают эти функции.\n",
        "\n",
        "На что стоит обратить внимание, так это на функцию оптимизации и параметр - коэффициент скорости обучения (learning rate), который в нашем примере равен `0.1`. Это используемый размер шага при корректировке внутренних значений переменных. Если значение слишком маленькое - понадобится слишком много обучающих итераций для обучения модели. Слишком большое - точность падает. Нахождение хорошего значения коэффициента скорости обучения требует некоторых проб и ошибок, оно обычно находится в интервале от `0.01` (по-умолчанию) до `0.1`."
      ]
    },
    {
      "cell_type": "markdown",
      "metadata": {
        "id": "NR9jCSBnyE3P",
        "colab_type": "text"
      },
      "source": [
        "### Тренируем модель\n",
        "\n",
        "Тренировка модели осуществляется методом `fit`.\n",
        "\n",
        "Во время тренировки модель получает на вход значения градусов Цельсия, выполняет преобразования используя значения внутренних переменных (называемые \"весами\") и возвращает значения, которые должны соответствовать градусами по Фаренгейту. Так как первоначальные значения весов установлены произвольными, то и результатирующие значения будут далеки от корректных значений. Разница между необходимым результатом и фактическим вычисляется с использованием функции потерь, а функция оптимизации определяет каким образом должны быть подкорректированы веса.\n",
        "\n",
        "Этот цикл вычислений, сравнений и корректировки контролируется внутри метода `fit`. Первый аргумент - входные значения, второй аргумент - желаемые выходные значения. Аргумент `epochs` определяет какое количество раз этот обучающий цикл должен быть выполнен. Аргумент `verbose` контролирует уровень логгирования."
      ]
    },
    {
      "cell_type": "code",
      "metadata": {
        "id": "jjjlpTew0NN6",
        "colab_type": "code",
        "outputId": "de705c00-d56d-462f-b87c-5cb66baa46cf",
        "colab": {
          "base_uri": "https://localhost:8080/",
          "height": 35
        }
      },
      "source": [
        "history = model.fit(celsius_q, fahrenheit_a, epochs=500, verbose=False)\n",
        "print(\"Завершили тренировку модели\")"
      ],
      "execution_count": 0,
      "outputs": [
        {
          "output_type": "stream",
          "text": [
            "Завершили тренировку модели\n"
          ],
          "name": "stdout"
        }
      ]
    },
    {
      "cell_type": "markdown",
      "metadata": {
        "id": "MPu2Okqc0aDy",
        "colab_type": "text"
      },
      "source": [
        "В последующих видео мы погрузимся в детали того, каким образом это всё работает и как именно работают плотные слои (Dense-слои) \"под капотом\"."
      ]
    },
    {
      "cell_type": "markdown",
      "metadata": {
        "id": "cawrKuUo0p2M",
        "colab_type": "text"
      },
      "source": [
        "### Отображаем статистику тренировок\n",
        "\n",
        "Метод `fit` возвращает объект, который содержит информацию об изменении потерь с каждой последующей итерацией. Мы можем воспользоваться этим объектом для построения соответствующего графика потерь. Высокая потеря означает, что значение градусов Фаренгейта, которые предсказала модель, далеки от истинных значений в массиве `fahrenheit_a`.\n",
        "\n",
        "Для визуализации воспользуемся `Matplotlib`. Как вы можете увидеть, наша модель улучшается очень быстро в самом начале, а затем приходит к стабильному и медленному улучшению до тех пор, пока результаты не становятся \"около\"-идеальными в самом конце обучения."
      ]
    },
    {
      "cell_type": "code",
      "metadata": {
        "id": "2iwLL8a-13dM",
        "colab_type": "code",
        "outputId": "88bdc6ec-d0be-4a1e-e94c-286abd79eef8",
        "colab": {
          "base_uri": "https://localhost:8080/",
          "height": 301
        }
      },
      "source": [
        "import matplotlib.pyplot as plt\n",
        "plt.xlabel('Epoch')\n",
        "plt.ylabel('Loss')\n",
        "plt.plot(history.history['loss'])"
      ],
      "execution_count": 0,
      "outputs": [
        {
          "output_type": "execute_result",
          "data": {
            "text/plain": [
              "[<matplotlib.lines.Line2D at 0x7facff9b90f0>]"
            ]
          },
          "metadata": {
            "tags": []
          },
          "execution_count": 7
        },
        {
          "output_type": "display_data",
          "data": {
            "image/png": "[encoded data removed]",
            "text/plain": [
              "<Figure size 432x288 with 1 Axes>"
            ]
          },
          "metadata": {
            "tags": []
          }
        }
      ]
    },
    {
      "cell_type": "markdown",
      "metadata": {
        "id": "Zh7gmlf22JTj",
        "colab_type": "text"
      },
      "source": [
        "### Используем модель для предсказаний\n",
        "\n",
        "Теперь у нас есть модель, которая была обучена на входных значениях `celsius_q` и выходных значениях `fahrenheit_a` для определения взаимосвязи между ними. Мы можем воспользоваться методом предсказания для вычисления тех значений градусов Фаренгейта по которым ранее нам неизвестны были соответствующие градусы Цельсия.\n",
        "\n",
        "Например, сколько будет `100.0` градусов Цельсия по Фаренгейту? Попробуйте угадать перед тем как запускать код ниже."
      ]
    },
    {
      "cell_type": "code",
      "metadata": {
        "id": "6yD6WPer63B6",
        "colab_type": "code",
        "outputId": "e297c37a-3dfa-4c08-8571-0d3fa0895568",
        "colab": {
          "base_uri": "https://localhost:8080/",
          "height": 35
        }
      },
      "source": [
        "print(model.predict([100.0]))"
      ],
      "execution_count": 0,
      "outputs": [
        {
          "output_type": "stream",
          "text": [
            "[[211.33786]]\n"
          ],
          "name": "stdout"
        }
      ]
    },
    {
      "cell_type": "markdown",
      "metadata": {
        "id": "b08TSETg69GU",
        "colab_type": "text"
      },
      "source": [
        "Правильный ответ $100 \\times 1.8 + 32 = 212$, так что наша модель справилась достаточно хорошо!"
      ]
    },
    {
      "cell_type": "markdown",
      "metadata": {
        "id": "ubHjp42G7H4I",
        "colab_type": "text"
      },
      "source": [
        "### Ревью\n",
        "\n",
        "* Мы создали модель с использованием Dense-слоя\n",
        "* Мы обучили её на 3500 примерах (7 пар значений, 500 обучающих итераций)\n",
        "\n",
        "Наша модель подогнала значения внутренних переменных (весов) в Dense-слое таким образом, чтобы возвращать правильные значения градусов Фаренгейта на произвольное входное значение градусов Цельсия. "
      ]
    },
    {
      "cell_type": "markdown",
      "metadata": {
        "id": "ap-kBE0v8ZbN",
        "colab_type": "text"
      },
      "source": [
        "## Смотрим на веса в слое"
      ]
    },
    {
      "cell_type": "markdown",
      "metadata": {
        "id": "ZnfdgqFA8gM2",
        "colab_type": "text"
      },
      "source": [
        "Давайте отобразим значения внутренних переменных Dense-слоя."
      ]
    },
    {
      "cell_type": "code",
      "metadata": {
        "id": "xP0z1Tgt8s8N",
        "colab_type": "code",
        "outputId": "5f2f4dd4-a66a-43c9-8302-3226b2272947",
        "colab": {
          "base_uri": "https://localhost:8080/",
          "height": 35
        }
      },
      "source": [
        "print(\"Это значения переменных слоя: {}\".format(l0.get_weights()))"
      ],
      "execution_count": 0,
      "outputs": [
        {
          "output_type": "stream",
          "text": [
            "Это значения переменных слоя: [array([[1.8204919]], dtype=float32), array([29.28866], dtype=float32)]\n"
          ],
          "name": "stdout"
        }
      ]
    },
    {
      "cell_type": "markdown",
      "metadata": {
        "id": "lS5egrrq81Re",
        "colab_type": "text"
      },
      "source": [
        "Значение первой переменной близко к ~1.8 , а второй к ~32. Эти значения (1.8 и 32) являются непосредственными значениями в  формуле конвертации градусов Цельсия в градусы Фаренгейта.\n",
        "\n",
        "Это действительно очень близко к фактическим значениям в формуле! Мы рассмотрим этот момент подробнее в последующих видео, где мы покажем, каким образом работает Dense-слой, а пока стоит знать лишь то, что один нейрон с единственным входом и выходом, содержит в себе простую математику - `y = mx + b` (уравнение прямой), которая представляет собой не что иное, как нашу с вами формулу преобразования градусов Цельсия в градусы Фаренгейта, `f = 1.8c + 32`.\n",
        "\n",
        "Так как представления одинаковые, то и значения внутренних переменных модели должны были сойтись к тем, которые представлены в фактической формуле, что и произошло в итоге.\n",
        "\n",
        "При наличие дополнительных нейронов, дополнительных входных значений и выходных значений, формула становится немного сложнее, но суть остаётся той же."
      ]
    },
    {
      "cell_type": "markdown",
      "metadata": {
        "id": "Z_wzpyD--ssQ",
        "colab_type": "text"
      },
      "source": [
        "### Немного экспериментов\n",
        "\n",
        "Ради веселья! Что будет, если мы создадим больше Dense-слоёв с большим количеством нейронов, которые, в свою очередь, будут содержать больше внутренних переменных?"
      ]
    },
    {
      "cell_type": "code",
      "metadata": {
        "id": "sPxZ3oba--ES",
        "colab_type": "code",
        "outputId": "04e7652d-f2f0-41a9-eaf1-61a0ca3adfcd",
        "colab": {
          "base_uri": "https://localhost:8080/",
          "height": 274
        }
      },
      "source": [
        "l0 = tf.keras.layers.Dense(units=4, input_shape=[1])\n",
        "l1 = tf.keras.layers.Dense(units=4)\n",
        "l2 = tf.keras.layers.Dense(units=1)\n",
        "model = tf.keras.Sequential([l0, l1, l2])\n",
        "model.compile(loss='mean_squared_error', optimizer=tf.keras.optimizers.Adam(0.1))\n",
        "model.fit(celsius_q, fahrenheit_a, epochs=500, verbose=False)\n",
        "print(\"Закончили обучение модели\")\n",
        "print(model.predict([100.0]))\n",
        "print(\"Модель предсказала, что 100 градусов Цельсия соответствуют {} градусам Фаренгейта\".format(model.predict([100.0]))) \n",
        "print(\"Значения внутренних переменных слоя l0: {}\".format(l0.get_weights()))\n",
        "print(\"Значения внутренних переменных слоя l1: {}\".format(l1.get_weights()))\n",
        "print(\"Значения внутренних переменных слоя l2: {}\".format(l2.get_weights()))"
      ],
      "execution_count": 0,
      "outputs": [
        {
          "output_type": "stream",
          "text": [
            "Закончили обучение модели\n",
            "[[211.7474]]\n",
            "Модель предсказала, что 100 градусов Цельсия соответствуют [[211.7474]] градусам Фаренгейта\n",
            "Значения внутренних переменных слоя l0: [array([[-0.458332  , -0.5625282 ,  0.03201744,  0.5845437 ]],\n",
            "      dtype=float32), array([-3.282478 , -3.2799559, -2.8582613,  3.3126836], dtype=float32)]\n",
            "Значения внутренних переменных слоя l1: [array([[ 0.5814973 , -0.09660637, -0.15132357,  0.2708811 ],\n",
            "       [ 0.13020259, -0.28447104, -0.51702493, -1.003911  ],\n",
            "       [ 1.4638319 ,  1.1282581 , -0.48505965, -1.0485326 ],\n",
            "       [-0.9144272 , -0.2948073 ,  0.456106  ,  0.27136382]],\n",
            "      dtype=float32), array([-3.2689924 , -0.11183003,  3.3362584 ,  3.223581  ], dtype=float32)]\n",
            "Значения внутренних переменных слоя l2: [array([[-1.3508495 ],\n",
            "       [-0.12013028],\n",
            "       [ 0.2983866 ],\n",
            "       [ 0.8946114 ]], dtype=float32), array([3.2355769], dtype=float32)]\n"
          ],
          "name": "stdout"
        }
      ]
    },
    {
      "cell_type": "markdown",
      "metadata": {
        "id": "DggHDooFAATS",
        "colab_type": "text"
      },
      "source": [
        "Как вы могли уже заметить, текущая модель тоже способна достаточно хорошо предсказывать соответствующие значения градусов Фаренгейта. Однако, если взглянуть на значения внутренних переменных (веса) нейронов по слоям, то никаких значений похожих на `1.8` и `32` мы уже не увидим. Добавленная  сложность модели скрывает \"простую\" форму преобразования градусов Цельсия в градусы Фаренгейта."
      ]
    },
    {
      "cell_type": "markdown",
      "metadata": {
        "id": "fwgNlEK5A2pJ",
        "colab_type": "text"
      },
      "source": [
        "Оставайся на связи и в следующей части мы рассмотрим то, каким образом работают Dense-слои \"под капотом\"."
      ]
    }
  ]
}